{
 "cells": [
  {
   "cell_type": "code",
   "execution_count": 1,
   "metadata": {},
   "outputs": [],
   "source": [
    "from random import randint"
   ]
  },
  {
   "cell_type": "code",
   "execution_count": 2,
   "metadata": {},
   "outputs": [
    {
     "name": "stdout",
     "output_type": "stream",
     "text": [
      "[96, 44, 96, 50, 51, 25, 75, 21, 20, 37, 66, 94, 17, 84, 69, 96, 54, 89, 57, 87, 2, 51, 47, 95, 11]\n"
     ]
    }
   ],
   "source": [
    "x=[]\n",
    "for i in range(25):\n",
    "    x.append(randint(1,100))\n",
    "print(x)"
   ]
  },
  {
   "cell_type": "code",
   "execution_count": 6,
   "metadata": {},
   "outputs": [],
   "source": [
    "val=84\n",
    "if val in x:\n",
    "    x.remove(val)"
   ]
  },
  {
   "cell_type": "code",
   "execution_count": 7,
   "metadata": {},
   "outputs": [
    {
     "name": "stdout",
     "output_type": "stream",
     "text": [
      "[96, 44, 96, 50, 51, 25, 75, 21, 20, 37, 66, 94, 17, 69, 96, 54, 89, 57, 87, 2, 51, 47, 95, 11]\n"
     ]
    }
   ],
   "source": [
    "print(x)"
   ]
  },
  {
   "cell_type": "code",
   "execution_count": 8,
   "metadata": {},
   "outputs": [
    {
     "data": {
      "text/plain": [
       "17"
      ]
     },
     "execution_count": 8,
     "metadata": {},
     "output_type": "execute_result"
    }
   ],
   "source": [
    "x.index(57)"
   ]
  },
  {
   "cell_type": "code",
   "execution_count": 9,
   "metadata": {},
   "outputs": [
    {
     "data": {
      "text/plain": [
       "94"
      ]
     },
     "execution_count": 9,
     "metadata": {},
     "output_type": "execute_result"
    }
   ],
   "source": [
    "x.pop(11)"
   ]
  },
  {
   "cell_type": "code",
   "execution_count": 10,
   "metadata": {},
   "outputs": [
    {
     "data": {
      "text/plain": [
       "11"
      ]
     },
     "execution_count": 10,
     "metadata": {},
     "output_type": "execute_result"
    }
   ],
   "source": [
    "x.pop() # last element from list"
   ]
  },
  {
   "cell_type": "code",
   "execution_count": 11,
   "metadata": {},
   "outputs": [
    {
     "name": "stdout",
     "output_type": "stream",
     "text": [
      "[2, 17, 20, 21, 25, 37, 44, 47, 50, 51, 51, 54, 57, 66, 69, 75, 87, 89, 95, 96, 96, 96]\n"
     ]
    }
   ],
   "source": [
    "x.sort()\n",
    "print(x)"
   ]
  },
  {
   "cell_type": "code",
   "execution_count": 12,
   "metadata": {},
   "outputs": [
    {
     "name": "stdout",
     "output_type": "stream",
     "text": [
      "[96, 96, 96, 95, 89, 87, 75, 69, 66, 57, 54, 51, 51, 50, 47, 44, 37, 25, 21, 20, 17, 2]\n"
     ]
    }
   ],
   "source": [
    "x.sort(reverse=True)\n",
    "print(x)"
   ]
  },
  {
   "cell_type": "code",
   "execution_count": 13,
   "metadata": {},
   "outputs": [
    {
     "data": {
      "text/plain": [
       "3"
      ]
     },
     "execution_count": 13,
     "metadata": {},
     "output_type": "execute_result"
    }
   ],
   "source": [
    "x.count(96)"
   ]
  },
  {
   "cell_type": "code",
   "execution_count": 15,
   "metadata": {},
   "outputs": [
    {
     "name": "stdout",
     "output_type": "stream",
     "text": [
      "[1, 2, 4, 5, 15]\n",
      "[1, 2, 4, 5, 15]\n",
      "[1, 2, 3, 4, 5, 10]\n",
      "True\n",
      "False\n",
      "False\n"
     ]
    }
   ],
   "source": [
    "x=[1,2,3,4,5,]\n",
    "y=x\n",
    "z=x.copy()#duplicates\n",
    "y.append(15)\n",
    "x.remove(3)\n",
    "z.append(10)\n",
    "print(x)\n",
    "print(y)\n",
    "print(z)\n",
    "print(x is y)\n",
    "print(x is z)\n",
    "print(y is z)\n"
   ]
  },
  {
   "cell_type": "markdown",
   "metadata": {},
   "source": [
    "-wap to count all the number greater than 50 in a list of 100 element"
   ]
  },
  {
   "cell_type": "code",
   "execution_count": 17,
   "metadata": {},
   "outputs": [
    {
     "name": "stdout",
     "output_type": "stream",
     "text": [
      "[86, 16, 8, 57, 27, 29, 83, 25, 54, 41, 7, 69, 6, 6, 78, 8, 67, 66, 56, 26, 73, 70, 59, 39, 59, 81, 94, 57, 83, 57, 15, 49, 13, 29, 64, 99, 4, 94, 18, 9, 69, 63, 77, 37, 32, 70, 62, 91, 58, 13, 32, 9, 81, 36, 23, 17, 7, 87, 87, 81, 9, 51, 44, 32, 25, 90, 79, 30, 20, 46, 55, 19, 25, 70, 99, 44, 54, 27, 61, 39, 39, 100, 7, 56, 24, 31, 59, 71, 38, 11, 10, 49, 5, 44, 98, 100, 64, 53, 38, 36]\n"
     ]
    }
   ],
   "source": [
    "x=[]\n",
    "for i in range(100):\n",
    "    x.append(randint(1, 100))\n",
    "print(x)"
   ]
  },
  {
   "cell_type": "code",
   "execution_count": 18,
   "metadata": {},
   "outputs": [
    {
     "name": "stdout",
     "output_type": "stream",
     "text": [
      "we have 48 numbers >=50\n"
     ]
    }
   ],
   "source": [
    "c50=0\n",
    "for i in x:\n",
    "    if i >=50:\n",
    "        c50 +=1\n",
    "print(f'we have {c50} numbers >=50')\n"
   ]
  },
  {
   "cell_type": "markdown",
   "metadata": {},
   "source": [
    "- add all the numbers that are less than 25 & display the "
   ]
  },
  {
   "cell_type": "code",
   "execution_count": 19,
   "metadata": {},
   "outputs": [
    {
     "name": "stdout",
     "output_type": "stream",
     "text": [
      "359\n"
     ]
    }
   ],
   "source": [
    "c25=[i for i in x if i <=25]\n",
    "print(sum(c25))"
   ]
  },
  {
   "cell_type": "markdown",
   "metadata": {},
   "source": [
    "LIST COMPREHENSION"
   ]
  },
  {
   "cell_type": "code",
   "execution_count": 22,
   "metadata": {},
   "outputs": [
    {
     "name": "stdout",
     "output_type": "stream",
     "text": [
      "[11, 23, 42, 62, 12, 56, 67, 23, 65]\n",
      "[11, 23, 67, 23, 65]\n"
     ]
    }
   ],
   "source": [
    "y=[11, 23, 42 ,62,12,56,67,23,65]\n",
    "yodd=[]\n",
    "for i in y:\n",
    "    if i % 2 !=0:\n",
    "        yodd.append(i)\n",
    "print(y)\n",
    "print(yodd)"
   ]
  },
  {
   "cell_type": "code",
   "execution_count": 25,
   "metadata": {},
   "outputs": [
    {
     "name": "stdout",
     "output_type": "stream",
     "text": [
      "[86, 16, 8, 57, 27, 29, 83, 25, 54, 41, 7, 69, 6, 6, 78, 8, 67, 66, 56, 26, 73, 70, 59, 39, 59, 81, 94, 57, 83, 57, 15, 49, 13, 29, 64, 99, 4, 94, 18, 9, 69, 63, 77, 37, 32, 70, 62, 91, 58, 13, 32, 9, 81, 36, 23, 17, 7, 87, 87, 81, 9, 51, 44, 32, 25, 90, 79, 30, 20, 46, 55, 19, 25, 70, 99, 44, 54, 27, 61, 39, 39, 100, 7, 56, 24, 31, 59, 71, 38, 11, 10, 49, 5, 44, 98, 100, 64, 53, 38, 36]\n",
      "[636056, 4096, 512, 185193, 19683, 24389, 571787, 15625, 157464, 68921, 343, 328509, 216, 216, 474552, 512, 300763, 287496, 175616, 17576, 389017, 343000, 205379, 59319, 205379, 531441, 830584, 185193, 571787, 185193, 3375, 117649, 2197, 24389, 262144, 970299, 64, 830584, 5832, 729, 328509, 250047, 456533, 50653, 32768, 343000, 238328, 753571, 195112, 2197, 32768, 729, 531441, 46656, 12167, 4913, 343, 658503, 658503, 531441, 729, 132651, 85184, 32768, 15625, 729000, 493039, 27000, 8000, 97336, 166375, 6859, 15625, 343000, 970299, 85184, 157464, 19683, 226981, 59319, 59319, 1000000, 343, 175616, 13824, 29791, 205379, 357911, 54872, 1331, 1000, 117649, 125, 85184, 941192, 1000000, 262144, 148877, 54872, 46656]\n"
     ]
    }
   ],
   "source": [
    "xcubes=[ i**3 for i in x]\n",
    "print(x)\n",
    "print(xcubes)"
   ]
  },
  {
   "cell_type": "code",
   "execution_count": 26,
   "metadata": {},
   "outputs": [],
   "source": [
    "yodd=[i for i in y if i%2 !=0]"
   ]
  },
  {
   "cell_type": "code",
   "execution_count": 27,
   "metadata": {},
   "outputs": [
    {
     "name": "stdout",
     "output_type": "stream",
     "text": [
      "[11, 23, 67, 23, 65]\n"
     ]
    }
   ],
   "source": [
    "print(yodd)"
   ]
  },
  {
   "cell_type": "markdown",
   "metadata": {},
   "source": [
    "-creat a list of sqr of only even numbers from an existing list"
   ]
  },
  {
   "cell_type": "code",
   "execution_count": 31,
   "metadata": {},
   "outputs": [],
   "source": [
    "x=[2,4,6,3,5,7,8]"
   ]
  },
  {
   "cell_type": "code",
   "execution_count": null,
   "metadata": {},
   "outputs": [],
   "source": [
    "xsqreven=[]\n",
    "for i in x:\n",
    "    if i%2==0:\n",
    "        sqreven"
   ]
  },
  {
   "cell_type": "code",
   "execution_count": 33,
   "metadata": {},
   "outputs": [
    {
     "name": "stdout",
     "output_type": "stream",
     "text": [
      "[4, 16, 36, 64]\n"
     ]
    }
   ],
   "source": [
    "xsqreven=[i**2 for i in x if i%2==0 ]\n",
    "print(xsqreven)"
   ]
  },
  {
   "cell_type": "code",
   "execution_count": null,
   "metadata": {},
   "outputs": [],
   "source": []
  }
 ],
 "metadata": {
  "kernelspec": {
   "display_name": "Python 3.9.12 ('base')",
   "language": "python",
   "name": "python3"
  },
  "language_info": {
   "codemirror_mode": {
    "name": "ipython",
    "version": 3
   },
   "file_extension": ".py",
   "mimetype": "text/x-python",
   "name": "python",
   "nbconvert_exporter": "python",
   "pygments_lexer": "ipython3",
   "version": "3.9.12"
  },
  "orig_nbformat": 4,
  "vscode": {
   "interpreter": {
    "hash": "510511002e828e71daf1d18073e2310001e26a811753918113903a059bc7f59f"
   }
  }
 },
 "nbformat": 4,
 "nbformat_minor": 2
}
