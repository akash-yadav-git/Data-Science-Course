{
 "cells": [
  {
   "cell_type": "code",
   "execution_count": 2,
   "metadata": {},
   "outputs": [
    {
     "name": "stdout",
     "output_type": "stream",
     "text": [
      "[] []\n",
      "<class 'list'> <class 'list'>\n"
     ]
    }
   ],
   "source": [
    "x=[]\n",
    "y=list()\n",
    "print(x,y)\n",
    "print(type(x),type(y))"
   ]
  },
  {
   "cell_type": "code",
   "execution_count": 3,
   "metadata": {},
   "outputs": [
    {
     "name": "stdout",
     "output_type": "stream",
     "text": [
      "[1, 3, 4, 5, 6] ['akash', 'amit', 'vijay']\n"
     ]
    }
   ],
   "source": [
    "x=[1,3,4,5,6]\n",
    "names=['akash','amit','vijay']\n",
    "print(x,names)"
   ]
  },
  {
   "cell_type": "code",
   "execution_count": 4,
   "metadata": {},
   "outputs": [
    {
     "name": "stdout",
     "output_type": "stream",
     "text": [
      "['apple', 100, 'banana', 40, 'orange']\n"
     ]
    }
   ],
   "source": [
    "mixed=[\"apple\",100,\"banana\",40,\"orange\"]\n",
    "print(mixed)"
   ]
  },
  {
   "cell_type": "code",
   "execution_count": 5,
   "metadata": {},
   "outputs": [
    {
     "name": "stdout",
     "output_type": "stream",
     "text": [
      "[1, 1, 1, 1, 1, 1, 1, 1, 1, 1]\n"
     ]
    }
   ],
   "source": [
    "\n",
    "ones=[1]*10 #duplicate 1 10 times and store in list\n",
    "print(ones)"
   ]
  },
  {
   "cell_type": "code",
   "execution_count": 6,
   "metadata": {},
   "outputs": [
    {
     "name": "stdout",
     "output_type": "stream",
     "text": [
      "['h', 'o', 'm', 'o', 's', 'a', 'p', 'i', 'e', 'n', 's']\n"
     ]
    }
   ],
   "source": [
    "word='homosapiens'\n",
    "chrs=list(word)\n",
    "print(chrs)"
   ]
  },
  {
   "cell_type": "code",
   "execution_count": 7,
   "metadata": {},
   "outputs": [
    {
     "name": "stdout",
     "output_type": "stream",
     "text": [
      "1\n",
      "3\n",
      "4\n",
      "5\n",
      "6\n"
     ]
    }
   ],
   "source": [
    "for i in x:\n",
    "    print(i)"
   ]
  },
  {
   "cell_type": "code",
   "execution_count": 8,
   "metadata": {},
   "outputs": [
    {
     "name": "stdout",
     "output_type": "stream",
     "text": [
      "102\n",
      "104\n",
      "105\n",
      "106\n",
      "107\n"
     ]
    }
   ],
   "source": [
    "for i in x:\n",
    "    print(i+101)"
   ]
  },
  {
   "cell_type": "code",
   "execution_count": 9,
   "metadata": {},
   "outputs": [],
   "source": [
    "books=['book1','book2','book3']\n"
   ]
  },
  {
   "cell_type": "code",
   "execution_count": 11,
   "metadata": {},
   "outputs": [],
   "source": [
    "books[0]='gita'"
   ]
  },
  {
   "cell_type": "code",
   "execution_count": 12,
   "metadata": {},
   "outputs": [
    {
     "data": {
      "text/plain": [
       "['gita', 'book2', 'book3']"
      ]
     },
     "execution_count": 12,
     "metadata": {},
     "output_type": "execute_result"
    }
   ],
   "source": [
    "books"
   ]
  },
  {
   "cell_type": "code",
   "execution_count": 14,
   "metadata": {},
   "outputs": [
    {
     "data": {
      "text/plain": [
       "['gita', 'Ramayana', 'book3']"
      ]
     },
     "execution_count": 14,
     "metadata": {},
     "output_type": "execute_result"
    }
   ],
   "source": [
    "books[1]=\"Ramayana\"\n",
    "books"
   ]
  },
  {
   "cell_type": "code",
   "execution_count": 15,
   "metadata": {},
   "outputs": [
    {
     "name": "stdout",
     "output_type": "stream",
     "text": [
      "['gita', 'Ramayana', 'terminator']\n"
     ]
    }
   ],
   "source": [
    "books[2]=\"terminator\"\n",
    "print(books)"
   ]
  },
  {
   "cell_type": "code",
   "execution_count": 16,
   "metadata": {},
   "outputs": [
    {
     "name": "stdout",
     "output_type": "stream",
     "text": [
      "['gita', 'Ramayana', 'terminator', 'The Warrior']\n"
     ]
    }
   ],
   "source": [
    "books.append(\"The Warrior\")\n",
    "print(books)"
   ]
  },
  {
   "cell_type": "code",
   "execution_count": 17,
   "metadata": {},
   "outputs": [
    {
     "name": "stdout",
     "output_type": "stream",
     "text": [
      "['Ramayana', 'terminator', 'The Warrior']\n"
     ]
    }
   ],
   "source": [
    "books.remove('gita')\n",
    "print(books)"
   ]
  },
  {
   "cell_type": "code",
   "execution_count": 20,
   "metadata": {},
   "outputs": [
    {
     "name": "stdout",
     "output_type": "stream",
     "text": [
      "['Avengers', 'Terminator', 'The hulk', 'King arthur', 'Ramayana', 'Monster', 'Spider man', 'The matrix', 'The dark night', 'Batman', 'Mission imposible', 'The expendable', 'Kantara', 'Govinda', 'Heropanti']\n"
     ]
    }
   ],
   "source": [
    "movies=['Avengers','Terminator','The hulk','King arthur','Ramayana',\n",
    "'Monster','Spider man','The matrix','The dark night','Batman',\n",
    "'Mission imposible','The expendable','Kantara','Govinda','Heropanti']\n",
    "print(movies)\n"
   ]
  },
  {
   "cell_type": "code",
   "execution_count": 21,
   "metadata": {},
   "outputs": [
    {
     "data": {
      "text/plain": [
       "15"
      ]
     },
     "execution_count": 21,
     "metadata": {},
     "output_type": "execute_result"
    }
   ],
   "source": [
    "len(movies)"
   ]
  },
  {
   "cell_type": "code",
   "execution_count": 22,
   "metadata": {},
   "outputs": [
    {
     "name": "stdout",
     "output_type": "stream",
     "text": [
      "['Avengers', 'Terminator', 'The hulk', 'King arthur', 'Ramayana', 'Monster', 'Spider man', 'The matrix', 'The dark night', 'Batman', 'Mission imposible', 'The expendable', 'Kantara', 'Govinda', 'Heropanti']\n"
     ]
    }
   ],
   "source": [
    "print(movies)"
   ]
  },
  {
   "cell_type": "code",
   "execution_count": 23,
   "metadata": {},
   "outputs": [
    {
     "data": {
      "text/plain": [
       "['Avengers',\n",
       " 'Terminator',\n",
       " 'The hulk',\n",
       " 'King arthur',\n",
       " 'Ramayana',\n",
       " 'Monster',\n",
       " 'Spider man',\n",
       " 'The matrix',\n",
       " 'The dark night',\n",
       " 'Batman']"
      ]
     },
     "execution_count": 23,
     "metadata": {},
     "output_type": "execute_result"
    }
   ],
   "source": [
    "movies[:10]"
   ]
  },
  {
   "cell_type": "code",
   "execution_count": 24,
   "metadata": {},
   "outputs": [
    {
     "name": "stdout",
     "output_type": "stream",
     "text": [
      "[\"'The dark knight'\", \"'Bad Boys'\", \"'Drakula'\"]\n"
     ]
    }
   ],
   "source": [
    "books=[]\n",
    "for i in range(3):\n",
    "    books.append(input())\n",
    "print(books)"
   ]
  },
  {
   "cell_type": "code",
   "execution_count": 26,
   "metadata": {},
   "outputs": [
    {
     "data": {
      "text/plain": [
       "['Monster', 'Spider man', 'The matrix', 'The dark night', 'Batman']"
      ]
     },
     "execution_count": 26,
     "metadata": {},
     "output_type": "execute_result"
    }
   ],
   "source": [
    "movies[5:-5]"
   ]
  },
  {
   "cell_type": "code",
   "execution_count": 30,
   "metadata": {},
   "outputs": [
    {
     "name": "stdout",
     "output_type": "stream",
     "text": [
      "['Avengers', 'Terminator', 'The hulk', 'King arthur', 'Ramayana', 'Monster', 'Spider man', 'The matrix', 'The dark night', 'Batman', 'Mission imposible', 'The expendable', 'Kantara', 'Govinda', 'Heropanti']\n"
     ]
    }
   ],
   "source": [
    "print(movies[::-1])"
   ]
  },
  {
   "cell_type": "code",
   "execution_count": 29,
   "metadata": {},
   "outputs": [
    {
     "data": {
      "text/plain": [
       "['Heropanti',\n",
       " 'Kantara',\n",
       " 'Mission imposible',\n",
       " 'The dark night',\n",
       " 'Spider man',\n",
       " 'Ramayana',\n",
       " 'The hulk',\n",
       " 'Avengers']"
      ]
     },
     "execution_count": 29,
     "metadata": {},
     "output_type": "execute_result"
    }
   ],
   "source": [
    "movies[::2]# every 2nd element"
   ]
  },
  {
   "cell_type": "code",
   "execution_count": 31,
   "metadata": {},
   "outputs": [],
   "source": [
    "#Methods\n"
   ]
  },
  {
   "cell_type": "code",
   "execution_count": 33,
   "metadata": {},
   "outputs": [
    {
     "name": "stdout",
     "output_type": "stream",
     "text": [
      "[1, 2, 3]\n"
     ]
    }
   ],
   "source": [
    "x=[1,2]\n",
    "x.append(3)\n",
    "print(x)"
   ]
  },
  {
   "cell_type": "code",
   "execution_count": 38,
   "metadata": {},
   "outputs": [
    {
     "name": "stdout",
     "output_type": "stream",
     "text": [
      "[1, 1.6, 1.5, 1.5, 1.5, 2.5, 2, 3]\n"
     ]
    }
   ],
   "source": [
    "x.insert(1,1.6)\n",
    "print(x)"
   ]
  },
  {
   "cell_type": "code",
   "execution_count": 39,
   "metadata": {},
   "outputs": [
    {
     "name": "stdout",
     "output_type": "stream",
     "text": [
      "[1, 1.6, 1.5, 2.5, 1.5, 1.5, 2.5, 2, 3]\n"
     ]
    }
   ],
   "source": [
    "x.insert(3, 2.5)\n",
    "print(x)"
   ]
  },
  {
   "cell_type": "code",
   "execution_count": 40,
   "metadata": {},
   "outputs": [
    {
     "data": {
      "text/plain": [
       "[1, 2, 3, 4, 5, 6]"
      ]
     },
     "execution_count": 40,
     "metadata": {},
     "output_type": "execute_result"
    }
   ],
   "source": [
    "a=[1,2,3]\n",
    "b=[4,5,6]\n",
    "a+b"
   ]
  },
  {
   "cell_type": "code",
   "execution_count": 41,
   "metadata": {},
   "outputs": [
    {
     "name": "stdout",
     "output_type": "stream",
     "text": [
      "[1, 2, 3, 4, 5, 6]\n"
     ]
    }
   ],
   "source": [
    "a.extend(b)\n",
    "print(a)"
   ]
  },
  {
   "cell_type": "code",
   "execution_count": null,
   "metadata": {},
   "outputs": [],
   "source": []
  }
 ],
 "metadata": {
  "kernelspec": {
   "display_name": "Python 3.9.12 ('base')",
   "language": "python",
   "name": "python3"
  },
  "language_info": {
   "codemirror_mode": {
    "name": "ipython",
    "version": 3
   },
   "file_extension": ".py",
   "mimetype": "text/x-python",
   "name": "python",
   "nbconvert_exporter": "python",
   "pygments_lexer": "ipython3",
   "version": "3.9.12"
  },
  "orig_nbformat": 4,
  "vscode": {
   "interpreter": {
    "hash": "510511002e828e71daf1d18073e2310001e26a811753918113903a059bc7f59f"
   }
  }
 },
 "nbformat": 4,
 "nbformat_minor": 2
}
