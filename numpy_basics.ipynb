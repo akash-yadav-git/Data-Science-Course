{
 "cells": [
  {
   "cell_type": "code",
   "execution_count": 1,
   "metadata": {},
   "outputs": [],
   "source": [
    "import numpy as np\n"
   ]
  },
  {
   "cell_type": "code",
   "execution_count": null,
   "metadata": {},
   "outputs": [],
   "source": [
    "x=np.random.randint(0,101,(3,3))\n",
    "y=np.random.randint(0,101,(3,3))\n",
    "print"
   ]
  },
  {
   "cell_type": "code",
   "execution_count": 2,
   "metadata": {},
   "outputs": [],
   "source": [
    "# numpy slicing (in 2d array)"
   ]
  },
  {
   "cell_type": "code",
   "execution_count": 3,
   "metadata": {},
   "outputs": [
    {
     "data": {
      "text/plain": [
       "array([[27, 44, 99, 53, 79],\n",
       "       [39, 59, 24, 79, 16],\n",
       "       [65, 21, 55, 72, 35],\n",
       "       [92, 92, 77, 17, 15],\n",
       "       [85, 20, 46, 13, 88],\n",
       "       [62, 16, 16, 99, 24],\n",
       "       [66, 88, 85, 40, 17],\n",
       "       [64, 49, 11, 83, 22],\n",
       "       [35, 30, 22, 86, 49],\n",
       "       [21, 98, 58, 86, 41]])"
      ]
     },
     "execution_count": 3,
     "metadata": {},
     "output_type": "execute_result"
    }
   ],
   "source": [
    "# 10x5 matrix\n",
    "a=np.random.randint(10,100,(10,5))\n",
    "a"
   ]
  },
  {
   "cell_type": "code",
   "execution_count": 4,
   "metadata": {},
   "outputs": [
    {
     "name": "stdout",
     "output_type": "stream",
     "text": [
      "[[27 44 99 53 79]\n",
      " [39 59 24 79 16]\n",
      " [65 21 55 72 35]\n",
      " [92 92 77 17 15]\n",
      " [85 20 46 13 88]]\n",
      "[[64 49 11 83 22]\n",
      " [35 30 22 86 49]\n",
      " [21 98 58 86 41]]\n"
     ]
    }
   ],
   "source": [
    "#top5 rows\n",
    "print(a[:5])\n",
    "\n",
    "print(a[-3:])"
   ]
  },
  {
   "cell_type": "code",
   "execution_count": 5,
   "metadata": {},
   "outputs": [
    {
     "name": "stdout",
     "output_type": "stream",
     "text": [
      "[44 59 21 92 20 16 88 49 30 98]\n",
      "[[27 44 99]\n",
      " [39 59 24]\n",
      " [65 21 55]\n",
      " [92 92 77]\n",
      " [85 20 46]\n",
      " [62 16 16]\n",
      " [66 88 85]\n",
      " [64 49 11]\n",
      " [35 30 22]\n",
      " [21 98 58]]\n",
      "[[99 53 79]\n",
      " [24 79 16]\n",
      " [55 72 35]\n",
      " [77 17 15]\n",
      " [46 13 88]\n",
      " [16 99 24]\n",
      " [85 40 17]\n",
      " [11 83 22]\n",
      " [22 86 49]\n",
      " [58 86 41]]\n",
      "[[27 99 79]\n",
      " [39 24 16]\n",
      " [65 55 35]\n",
      " [92 77 15]\n",
      " [85 46 88]\n",
      " [62 16 24]\n",
      " [66 85 17]\n",
      " [64 11 22]\n",
      " [35 22 49]\n",
      " [21 58 41]]\n",
      "[[27 44 99]\n",
      " [39 59 24]\n",
      " [65 21 55]\n",
      " [92 92 77]\n",
      " [85 20 46]]\n"
     ]
    }
   ],
   "source": [
    "# 1column\n",
    "print(a[:,1])\n",
    "\n",
    "#first 3 column\n",
    "print(a[:,:3])\n",
    "\n",
    "#last 3 column\n",
    "print(a[:,-3:])\n",
    "\n",
    "#0,2,4 column\n",
    "print(a[:,[0,2,4]])\n",
    "\n",
    "# 1st 5 rows and 1st 3column\n",
    "print(a[:5,:3])"
   ]
  },
  {
   "cell_type": "code",
   "execution_count": null,
   "metadata": {},
   "outputs": [],
   "source": []
  }
 ],
 "metadata": {
  "kernelspec": {
   "display_name": "base",
   "language": "python",
   "name": "python3"
  },
  "language_info": {
   "codemirror_mode": {
    "name": "ipython",
    "version": 3
   },
   "file_extension": ".py",
   "mimetype": "text/x-python",
   "name": "python",
   "nbconvert_exporter": "python",
   "pygments_lexer": "ipython3",
   "version": "3.9.12"
  },
  "orig_nbformat": 4,
  "vscode": {
   "interpreter": {
    "hash": "510511002e828e71daf1d18073e2310001e26a811753918113903a059bc7f59f"
   }
  }
 },
 "nbformat": 4,
 "nbformat_minor": 2
}
